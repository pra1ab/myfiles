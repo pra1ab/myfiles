{
  "nbformat": 4,
  "nbformat_minor": 0,
  "metadata": {
    "colab": {
      "provenance": [],
      "authorship_tag": "ABX9TyPG2efze8n2+PuwMROU/eEK",
      "include_colab_link": true
    },
    "kernelspec": {
      "name": "python3",
      "display_name": "Python 3"
    },
    "language_info": {
      "name": "python"
    }
  },
  "cells": [
    {
      "cell_type": "markdown",
      "metadata": {
        "id": "view-in-github",
        "colab_type": "text"
      },
      "source": [
        "<a href=\"https://colab.research.google.com/github/pra1ab/myfiles/blob/main/WORKSHEET2_2358463_PralabRajMahat.ipynb\" target=\"_parent\"><img src=\"https://colab.research.google.com/assets/colab-badge.svg\" alt=\"Open In Colab\"/></a>"
      ]
    },
    {
      "cell_type": "code",
      "execution_count": 1,
      "metadata": {
        "colab": {
          "base_uri": "https://localhost:8080/"
        },
        "id": "8Di1I5QFDPcm",
        "outputId": "e6402c8b-6318-43de-e21f-de2b901c01e5"
      },
      "outputs": [
        {
          "output_type": "stream",
          "name": "stdout",
          "text": [
            "Mounted at /content/drive\n"
          ]
        }
      ],
      "source": [
        "from google.colab import drive\n",
        "drive.mount('/content/drive')"
      ]
    },
    {
      "cell_type": "markdown",
      "source": [
        "Problem 1. Data Read, Write and Inspect:"
      ],
      "metadata": {
        "id": "GxEFd8AzDptU"
      }
    },
    {
      "cell_type": "code",
      "source": [
        "import pandas as pd\n",
        "\n",
        "# 1. Load the provided dataset and import in pandas DataFrame.\n",
        "df = pd.read_csv('/content/drive/MyDrive/DATASET/bank .csv')\n",
        "\n",
        "# 2. Check info of the DataFrame and identify following:\n",
        "\n",
        "# (a) columns with dtypes=object\n",
        "object_columns = df.select_dtypes(include=['object']).columns\n",
        "print(f\"Columns with dtype = object:\\n {list(object_columns)}\\n\")\n",
        "\n",
        "# (b) unique values of those columns.\n",
        "unique_values = {}\n",
        "for col in object_columns:\n",
        "    unique_values[col] = df[col].unique()\n",
        "\n",
        "print(\"Unique values for object dtype columns:\\n\")\n",
        "\n",
        "for col, values in unique_values.items():\n",
        "    print(f\"{col}: {values}\")\n",
        "\n",
        "# (c) check for the total number of null values in each column.\n",
        "null_values = df.isnull().sum()\n",
        "print(\"\\nNull values in each column:\\n\")\n",
        "print(null_values)\n",
        "\n",
        "# 3. Drop columns with dtype=object and store the resulting DataFrame in \"banknumericdata.csv\"\n",
        "df_numeric = df.drop(columns=object_columns)\n",
        "df_numeric.to_csv('/content/drive/MyDrive/DATASET/bank .csv')\n",
        "\n",
        "# 4. Read \"banknumericdata.csv\" and find the summary statistics\n",
        "df_numeric_read = pd.read_csv('/content/drive/MyDrive/DATASET/bank .csv')\n",
        "summary = df_numeric_read.describe()\n",
        "print(\"\\nSummary statistics:\\n\")\n",
        "print(summary)"
      ],
      "metadata": {
        "colab": {
          "base_uri": "https://localhost:8080/"
        },
        "id": "Vxkgr0-rDwUP",
        "outputId": "0ea1191d-a556-48ac-cc6e-e4ce6b9b9ae0"
      },
      "execution_count": 4,
      "outputs": [
        {
          "output_type": "stream",
          "name": "stdout",
          "text": [
            "Columns with dtype = object:\n",
            " ['job', 'marital', 'education', 'default', 'housing', 'loan', 'contact', 'month', 'poutcome', 'y']\n",
            "\n",
            "Unique values for object dtype columns:\n",
            "\n",
            "job: ['management' 'technician' 'entrepreneur' 'blue-collar' 'unknown'\n",
            " 'retired' 'admin.' 'services' 'self-employed' 'unemployed' 'housemaid'\n",
            " 'student']\n",
            "marital: ['married' 'single' 'divorced']\n",
            "education: ['tertiary' 'secondary' 'unknown' 'primary']\n",
            "default: ['no' 'yes']\n",
            "housing: ['yes' 'no']\n",
            "loan: ['no' 'yes']\n",
            "contact: ['unknown' 'cellular' 'telephone']\n",
            "month: ['may' 'jun' 'jul' 'aug' 'oct' 'nov' 'dec' 'jan' 'feb' 'mar' 'apr' 'sep']\n",
            "poutcome: ['unknown' 'failure' 'other' 'success']\n",
            "y: ['no' 'yes']\n",
            "\n",
            "Null values in each column:\n",
            "\n",
            "age          0\n",
            "job          0\n",
            "marital      0\n",
            "education    0\n",
            "default      0\n",
            "balance      0\n",
            "housing      0\n",
            "loan         0\n",
            "contact      0\n",
            "day          0\n",
            "month        0\n",
            "duration     0\n",
            "campaign     0\n",
            "pdays        0\n",
            "previous     0\n",
            "poutcome     0\n",
            "y            0\n",
            "dtype: int64\n",
            "\n",
            "Summary statistics:\n",
            "\n",
            "         Unnamed: 0           age        balance           day      duration  \\\n",
            "count  45211.000000  45211.000000   45211.000000  45211.000000  45211.000000   \n",
            "mean   22605.000000     40.936210    1362.272058     15.806419    258.163080   \n",
            "std    13051.435847     10.618762    3044.765829      8.322476    257.527812   \n",
            "min        0.000000     18.000000   -8019.000000      1.000000      0.000000   \n",
            "25%    11302.500000     33.000000      72.000000      8.000000    103.000000   \n",
            "50%    22605.000000     39.000000     448.000000     16.000000    180.000000   \n",
            "75%    33907.500000     48.000000    1428.000000     21.000000    319.000000   \n",
            "max    45210.000000     95.000000  102127.000000     31.000000   4918.000000   \n",
            "\n",
            "           campaign         pdays      previous  \n",
            "count  45211.000000  45211.000000  45211.000000  \n",
            "mean       2.763841     40.197828      0.580323  \n",
            "std        3.098021    100.128746      2.303441  \n",
            "min        1.000000     -1.000000      0.000000  \n",
            "25%        1.000000     -1.000000      0.000000  \n",
            "50%        2.000000     -1.000000      0.000000  \n",
            "75%        3.000000     -1.000000      0.000000  \n",
            "max       63.000000    871.000000    275.000000  \n"
          ]
        }
      ]
    },
    {
      "cell_type": "markdown",
      "source": [
        "# 3.1 Problem 2. Data Imputations:"
      ],
      "metadata": {
        "id": "NLEuIoKjEazC"
      }
    },
    {
      "cell_type": "code",
      "source": [
        "# 1. Load the provided dataset and import in pandas DataFrame\n",
        "df = pd.read_csv('/content/drive/MyDrive/DATASET/medical_students_dataset.csv')\n",
        "\n",
        "# 2. Check info of the DataFrame and identify columns with missing (null) values\n",
        "print(\"\\nDataFrame Info:\\n\")\n",
        "print(df.info())\n",
        "\n",
        "# Identify columns with missing values\n",
        "missing_values = df.isnull().sum()\n",
        "print(\"\\nMissing values in each column:\\n\")\n",
        "print(missing_values[missing_values > 0])\n",
        "\n",
        "# 3. For the column with missing values fill the values using various techniques we discussed above.\n",
        "# Try to explain why did you select the particular methods for particular column.\n",
        "print(\"\\nFilling missing values:\\n\")\n",
        "for column in missing_values[missing_values > 0].index:\n",
        "    if df[column].dtype == 'float64' or df[column].dtype == 'int64':\n",
        "        # Fill numeric columns with mean/average value of that column\n",
        "        df[column] = df[column].fillna(df[column].mean())\n",
        "        print(f\"\\nFilled missing values in '{column}' with average value of the column.\")\n",
        "\n",
        "    elif df[column].dtype == 'object':\n",
        "        # Fill object columns with mode/most common value from the column\n",
        "        df[column] = df[column].fillna(df[column].mode()[0])\n",
        "        print(f\"\\nFilled missing values in '{column}' with most common value in the column.\")\n",
        "\n",
        "# 4. Check for any duplicate values\n",
        "print(\"\\nChecking for duplicate rows...\")\n",
        "duplicates_count = df.duplicated().sum()\n",
        "print(f\"Number of duplicate rows: {duplicates_count}\")\n",
        "\n",
        "# Drop duplicates if any exist\n",
        "if duplicates_count > 0:\n",
        "    df = df.drop_duplicates()\n",
        "    print(\"Duplicate rows dropped.\")\n",
        "\n",
        "# Final output\n",
        "print(\"\\nFinal DataFrame Info:\")\n",
        "print(df.info())"
      ],
      "metadata": {
        "colab": {
          "base_uri": "https://localhost:8080/"
        },
        "id": "ptppaJS6Ehev",
        "outputId": "59138528-121d-47fc-d39a-183ec6ccfada"
      },
      "execution_count": 5,
      "outputs": [
        {
          "output_type": "stream",
          "name": "stdout",
          "text": [
            "\n",
            "DataFrame Info:\n",
            "\n",
            "<class 'pandas.core.frame.DataFrame'>\n",
            "RangeIndex: 200000 entries, 0 to 199999\n",
            "Data columns (total 13 columns):\n",
            " #   Column          Non-Null Count   Dtype  \n",
            "---  ------          --------------   -----  \n",
            " 0   Student ID      180000 non-null  float64\n",
            " 1   Age             180000 non-null  float64\n",
            " 2   Gender          180000 non-null  object \n",
            " 3   Height          180000 non-null  float64\n",
            " 4   Weight          180000 non-null  float64\n",
            " 5   Blood Type      180000 non-null  object \n",
            " 6   BMI             180000 non-null  float64\n",
            " 7   Temperature     180000 non-null  float64\n",
            " 8   Heart Rate      180000 non-null  float64\n",
            " 9   Blood Pressure  180000 non-null  float64\n",
            " 10  Cholesterol     180000 non-null  float64\n",
            " 11  Diabetes        180000 non-null  object \n",
            " 12  Smoking         180000 non-null  object \n",
            "dtypes: float64(9), object(4)\n",
            "memory usage: 19.8+ MB\n",
            "None\n",
            "\n",
            "Missing values in each column:\n",
            "\n",
            "Student ID        20000\n",
            "Age               20000\n",
            "Gender            20000\n",
            "Height            20000\n",
            "Weight            20000\n",
            "Blood Type        20000\n",
            "BMI               20000\n",
            "Temperature       20000\n",
            "Heart Rate        20000\n",
            "Blood Pressure    20000\n",
            "Cholesterol       20000\n",
            "Diabetes          20000\n",
            "Smoking           20000\n",
            "dtype: int64\n",
            "\n",
            "Filling missing values:\n",
            "\n",
            "\n",
            "Filled missing values in 'Student ID' with average value of the column.\n",
            "\n",
            "Filled missing values in 'Age' with average value of the column.\n",
            "\n",
            "Filled missing values in 'Gender' with most common value in the column.\n",
            "\n",
            "Filled missing values in 'Height' with average value of the column.\n",
            "\n",
            "Filled missing values in 'Weight' with average value of the column.\n",
            "\n",
            "Filled missing values in 'Blood Type' with most common value in the column.\n",
            "\n",
            "Filled missing values in 'BMI' with average value of the column.\n",
            "\n",
            "Filled missing values in 'Temperature' with average value of the column.\n",
            "\n",
            "Filled missing values in 'Heart Rate' with average value of the column.\n",
            "\n",
            "Filled missing values in 'Blood Pressure' with average value of the column.\n",
            "\n",
            "Filled missing values in 'Cholesterol' with average value of the column.\n",
            "\n",
            "Filled missing values in 'Diabetes' with most common value in the column.\n",
            "\n",
            "Filled missing values in 'Smoking' with most common value in the column.\n",
            "\n",
            "Checking for duplicate rows...\n",
            "Number of duplicate rows: 12572\n",
            "Duplicate rows dropped.\n",
            "\n",
            "Final DataFrame Info:\n",
            "<class 'pandas.core.frame.DataFrame'>\n",
            "Index: 187428 entries, 0 to 199999\n",
            "Data columns (total 13 columns):\n",
            " #   Column          Non-Null Count   Dtype  \n",
            "---  ------          --------------   -----  \n",
            " 0   Student ID      187428 non-null  float64\n",
            " 1   Age             187428 non-null  float64\n",
            " 2   Gender          187428 non-null  object \n",
            " 3   Height          187428 non-null  float64\n",
            " 4   Weight          187428 non-null  float64\n",
            " 5   Blood Type      187428 non-null  object \n",
            " 6   BMI             187428 non-null  float64\n",
            " 7   Temperature     187428 non-null  float64\n",
            " 8   Heart Rate      187428 non-null  float64\n",
            " 9   Blood Pressure  187428 non-null  float64\n",
            " 10  Cholesterol     187428 non-null  float64\n",
            " 11  Diabetes        187428 non-null  object \n",
            " 12  Smoking         187428 non-null  object \n",
            "dtypes: float64(9), object(4)\n",
            "memory usage: 20.0+ MB\n",
            "None\n"
          ]
        }
      ]
    },
    {
      "cell_type": "markdown",
      "source": [
        "# 3.2 Problem 1. Create a DataFrame that is subsetted for the columns ’Name’, ’Pclass’, ’Sex’, ’Age’, ’Fare’, and ’Survived’.\n",
        "# Retain only those rows where ’Pclass’ is equal to 1, representing first-class passengers. What is the mean,\n",
        "# median, maximum value, and minimum value of the ’Fare’ column?\n",
        "# 3.2 Problem 2. How many null values are contained in the ’Age’ column in your subsetted DataFrame?\n",
        "# Once you’ve found this out, drop them from your DataFrame."
      ],
      "metadata": {
        "id": "OZKNxvTDFhGa"
      }
    },
    {
      "cell_type": "code",
      "source": [
        "df = pd.read_csv('/content/drive/MyDrive/DATASET/Titanic-Dataset (1).csv')\n",
        "\n",
        "# Subsetted dataframe\n",
        "subset_df = df[['Name', 'Pclass', 'Sex', 'Age', 'Fare', 'Survived']]\n",
        "\n",
        "# filter rows where Pclass is 1.\n",
        "first_class_df = subset_df[subset_df['Pclass'] == 1]\n",
        "\n",
        "# Calculate the mean, median, max, and min of the 'Fare' column\n",
        "mean_fare = first_class_df['Fare'].mean()\n",
        "median_fare = first_class_df['Fare'].median()\n",
        "max_fare = first_class_df['Fare'].max()\n",
        "min_fare = first_class_df['Fare'].min()\n",
        "\n",
        "# Print the results\n",
        "print(\"Problem 1:\\n\")\n",
        "print(f\"Mean Fare: {mean_fare}\")\n",
        "print(f\"Median Fare: {median_fare}\")\n",
        "print(f\"Maximum Fare: {max_fare}\")\n",
        "print(f\"Minimum Fare: {min_fare}\")\n",
        "\n",
        "# 3.2 Problem 2. How many null values are contained in the ’Age’ column in your subsetted DataFrame?\n",
        "# Once you’ve found this out, drop them from your DataFrame.\n",
        "print(\"\\nProblem 2:\\n\")\n",
        "# Count the number of null values in the 'Age' column\n",
        "null_age_count = first_class_df['Age'].isnull().sum()\n",
        "print(f\"Number of null values in 'Age' column: {null_age_count}\")\n",
        "\n",
        "# Drop the rows where 'Age' is null\n",
        "first_class_df_cleaned = first_class_df.dropna(subset=['Age'])\n",
        "\n",
        "# Verify that null values are dropped\n",
        "null_age_count_after_drop = first_class_df_cleaned['Age'].isnull().sum()\n",
        "print(f\"Number of null values in 'Age' column after dropping: {null_age_count_after_drop}\")"
      ],
      "metadata": {
        "colab": {
          "base_uri": "https://localhost:8080/"
        },
        "id": "kS0WdmjrFiU7",
        "outputId": "e3c4c646-b353-4b05-d102-47c32f29442a"
      },
      "execution_count": 6,
      "outputs": [
        {
          "output_type": "stream",
          "name": "stdout",
          "text": [
            "Problem 1:\n",
            "\n",
            "Mean Fare: 84.1546875\n",
            "Median Fare: 60.287499999999994\n",
            "Maximum Fare: 512.3292\n",
            "Minimum Fare: 0.0\n",
            "\n",
            "Problem 2:\n",
            "\n",
            "Number of null values in 'Age' column: 30\n",
            "Number of null values in 'Age' column after dropping: 0\n"
          ]
        }
      ]
    },
    {
      "cell_type": "markdown",
      "source": [
        "# 3.2 Problem 3. The ’Embarked’ column in the Titanic dataset contains categorical data representing the ports of embarkation:\n",
        "# • ’C’ for Cherbourg\n",
        "# • ’Q’ for Queenstown\n",
        "# • ’S’ for Southampton"
      ],
      "metadata": {
        "id": "gEbNJCO_F8Lg"
      }
    },
    {
      "cell_type": "code",
      "source": [
        "df = pd.read_csv('/content/drive/MyDrive/DATASET/Titanic-Dataset (1).csv')\n",
        "\n",
        "# Tasks:\n",
        "# 1. Use one-hot encoding to convert the ’Embarked’ column into separate binary columns (’Embarked C’, ’Embarked Q’, ’Embarked S’).\n",
        "embarked_dummies = pd.get_dummies(df['Embarked'], prefix='Embarked')\n",
        "\n",
        "# 2. Add these new columns to the original DataFrame.\n",
        "df = pd.concat([df, embarked_dummies], axis=1)\n",
        "\n",
        "# 3. Drop the original ’Embarked’ column.\n",
        "df.drop(columns=['Embarked'], inplace=True)\n",
        "\n",
        "# 4. Print the first few rows of the modified DataFrame to verify the changes.\n",
        "print(df.head())"
      ],
      "metadata": {
        "colab": {
          "base_uri": "https://localhost:8080/"
        },
        "id": "ueQ44wD3F9kj",
        "outputId": "dff79cd9-6c02-45e2-8513-21737249620a"
      },
      "execution_count": 7,
      "outputs": [
        {
          "output_type": "stream",
          "name": "stdout",
          "text": [
            "   PassengerId  Survived  Pclass  \\\n",
            "0            1         0       3   \n",
            "1            2         1       1   \n",
            "2            3         1       3   \n",
            "3            4         1       1   \n",
            "4            5         0       3   \n",
            "\n",
            "                                                Name     Sex   Age  SibSp  \\\n",
            "0                            Braund, Mr. Owen Harris    male  22.0      1   \n",
            "1  Cumings, Mrs. John Bradley (Florence Briggs Th...  female  38.0      1   \n",
            "2                             Heikkinen, Miss. Laina  female  26.0      0   \n",
            "3       Futrelle, Mrs. Jacques Heath (Lily May Peel)  female  35.0      1   \n",
            "4                           Allen, Mr. William Henry    male  35.0      0   \n",
            "\n",
            "   Parch            Ticket     Fare Cabin  Embarked_C  Embarked_Q  Embarked_S  \n",
            "0      0         A/5 21171   7.2500   NaN       False       False        True  \n",
            "1      0          PC 17599  71.2833   C85        True       False       False  \n",
            "2      0  STON/O2. 3101282   7.9250   NaN       False       False        True  \n",
            "3      0            113803  53.1000  C123       False       False        True  \n",
            "4      0            373450   8.0500   NaN       False       False        True  \n"
          ]
        }
      ]
    },
    {
      "cell_type": "markdown",
      "source": [
        "# 3.2 Problem 4. Compare the mean survival rates (’Survived’) for the different groups in the ’Sex’ column."
      ],
      "metadata": {
        "id": "HO0-nLOdGJuX"
      }
    },
    {
      "cell_type": "code",
      "source": [
        "import matplotlib.pyplot as plt\n",
        "df = pd.read_csv('/content/drive/MyDrive/DATASET/Titanic-Dataset (1).csv')\n",
        "\n",
        "mean_survival_by_gender = df.groupby('Sex')['Survived'].mean()\n",
        "print(f\"Mean survival rate by gender:\\n{mean_survival_by_gender}\")\n",
        "\n",
        "# Bar plot to show the mean survival rate by gender\n",
        "plt.figure(figsize=(6, 4))\n",
        "plt.bar(mean_survival_by_gender.index, mean_survival_by_gender.values, color=['blue', 'pink'])\n",
        "plt.title('Mean Survival Rate by Gender')\n",
        "plt.xlabel('Gender')\n",
        "plt.ylabel('Mean Survival Rate')\n",
        "plt.show()"
      ],
      "metadata": {
        "colab": {
          "base_uri": "https://localhost:8080/",
          "height": 497
        },
        "id": "mGmi5OcRGKn6",
        "outputId": "6d94ddd4-93fb-4a5d-c355-66c34e23db0e"
      },
      "execution_count": 9,
      "outputs": [
        {
          "output_type": "stream",
          "name": "stdout",
          "text": [
            "Mean survival rate by gender:\n",
            "Sex\n",
            "female    0.742038\n",
            "male      0.188908\n",
            "Name: Survived, dtype: float64\n"
          ]
        },
        {
          "output_type": "display_data",
          "data": {
            "text/plain": [
              "<Figure size 600x400 with 1 Axes>"
            ],
            "image/png": "[encoded data removed]"
          },
          "metadata": {}
        }
      ]
    },
    {
      "cell_type": "markdown",
      "source": [
        "# 3.2 Problem 5. Draw a visualization that breaks your visualization from Exercise 3 down by the port of embarkation\n",
        "# (’Embarked’). In this instance, compare the ports ’C’ (Cherbourg), ’Q’ (Queenstown), and ’S’ (Southampton)."
      ],
      "metadata": {
        "id": "m56iWIkQGio9"
      }
    },
    {
      "cell_type": "code",
      "source": [
        "mean_survival_by_gender_and_embarked = df.groupby(['Sex', 'Embarked'])['Survived'].mean().unstack()\n",
        "print(f\"Mean survival rate by gender and embarkation port:\\n{mean_survival_by_gender_and_embarked}\")\n",
        "\n",
        "# Bar plot to show the mean survival rate by gender and embarkation port\n",
        "mean_survival_by_gender_and_embarked.plot(kind='bar', figsize=(8, 6), color=['blue', 'pink', 'lightgreen'])\n",
        "plt.title('Mean Survival Rate by Gender and Embarkation Port')\n",
        "plt.xlabel('Gender')\n",
        "plt.ylabel('Mean Survival Rate')\n",
        "plt.xticks(rotation=0)  # Rotate x-axis labels to make them readable\n",
        "plt.legend(title='Embarked', labels=['Cherbourg (C)', 'Queenstown (Q)', 'Southampton (S)'])\n",
        "plt.show()"
      ],
      "metadata": {
        "colab": {
          "base_uri": "https://localhost:8080/",
          "height": 601
        },
        "id": "eEnlBbDpGj1u",
        "outputId": "14464f23-87ef-4001-ecac-a9c170c55385"
      },
      "execution_count": 10,
      "outputs": [
        {
          "output_type": "stream",
          "name": "stdout",
          "text": [
            "Mean survival rate by gender and embarkation port:\n",
            "Embarked         C         Q         S\n",
            "Sex                                   \n",
            "female    0.876712  0.750000  0.689655\n",
            "male      0.305263  0.073171  0.174603\n"
          ]
        },
        {
          "output_type": "display_data",
          "data": {
            "text/plain": [
              "<Figure size 800x600 with 1 Axes>"
            ],
            "image/png": "[encoded data removed]"
          },
          "metadata": {}
        }
      ]
    },
    {
      "cell_type": "markdown",
      "source": [
        "# 3.2 Problem 6. (optional) Show how the survival rates (’Survived’) vary by age group and passenger class (’Pclass’).\n",
        "# Break up the ’Age’ column into five quantiles in your DataFrame, and then compare the means of ’Survived’ by class and age group.\n",
        "# Draw a visualization using a any plotting library to represent this graphically.\n"
      ],
      "metadata": {
        "id": "Km4HXsX3Gq5a"
      }
    },
    {
      "cell_type": "code",
      "source": [
        "age_quantiles = pd.qcut(df['Age'], 5, labels=['Q1', 'Q2', 'Q3', 'Q4', 'Q5'])\n",
        "df['AgeGroup'] = age_quantiles\n",
        "\n",
        "mean_survival_by_class_and_age = df.groupby(['Pclass', 'AgeGroup'], observed=False)['Survived'].mean().unstack()\n",
        "\n",
        "print(f\"Mean survival rate by Pclass and Age Group:\\n{mean_survival_by_class_and_age}\")\n",
        "\n",
        "# Plot the mean survival rate by Pclass and Age Group\n",
        "mean_survival_by_class_and_age.plot(kind='bar', figsize=(10, 6), color=['blue', 'orange', 'green', 'red', 'purple'])\n",
        "plt.title('Mean Survival Rate by Passenger Class and Age Group')\n",
        "plt.xlabel('Passenger Class')\n",
        "plt.ylabel('Mean Survival Rate')\n",
        "plt.xticks(rotation=0)  # Rotate x-axis labels for better readability\n",
        "plt.legend(title='Age Group', loc='upper left', labels=['Q1', 'Q2', 'Q3', 'Q4', 'Q5'])\n",
        "plt.show()"
      ],
      "metadata": {
        "colab": {
          "base_uri": "https://localhost:8080/",
          "height": 527
        },
        "id": "9KOWwDzpGryQ",
        "outputId": "e72a589d-6abd-471c-9fa6-1475596df214"
      },
      "execution_count": 11,
      "outputs": [
        {
          "output_type": "stream",
          "name": "stdout",
          "text": [
            "Mean survival rate by Pclass and Age Group:\n",
            "AgeGroup        Q1        Q2        Q3        Q4        Q5\n",
            "Pclass                                                    \n",
            "1         0.809524  0.761905  0.666667  0.777778  0.506667\n",
            "2         0.742857  0.400000  0.416667  0.461538  0.363636\n",
            "3         0.333333  0.197674  0.283582  0.166667  0.088235\n"
          ]
        },
        {
          "output_type": "display_data",
          "data": {
            "text/plain": [
              "<Figure size 1000x600 with 1 Axes>"
            ],
            "image/png": "[encoded data removed]"
          },
          "metadata": {}
        }
      ]
    }
  ]
}